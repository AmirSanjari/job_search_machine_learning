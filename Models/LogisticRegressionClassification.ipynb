{
 "cells": [
  {
   "cell_type": "code",
   "execution_count": 1,
   "metadata": {},
   "outputs": [],
   "source": [
    "from sklearn.linear_model import LogisticRegression\n",
    "from sklearn.model_selection import train_test_split\n",
    "from sklearn.preprocessing import StandardScaler\n",
    "from sklearn.metrics import accuracy_score\n",
    "from loadData import loadData\n",
    "from preprocessing import preprocessing\n"
   ]
  },
  {
   "cell_type": "code",
   "execution_count": 3,
   "metadata": {},
   "outputs": [
    {
     "name": "stdout",
     "output_type": "stream",
     "text": [
      "Accuracy: 73.28%\n"
     ]
    }
   ],
   "source": [
    "\"\"\"\n",
    "This script demonstrates a basic machine learning pipeline for binary classification using logistic regression.\n",
    "\n",
    "1. Load the original dataset.\n",
    "2. Perform preprocessing steps, including data cleaning and feature engineering.\n",
    "3. Split the preprocessed data into training and testing sets (80% training, 20% testing).\n",
    "4. Normalize the features using standard scaling to ensure each feature contributes equally.\n",
    "5. Train a logistic regression classifier on the training data.\n",
    "6. Predict using the trained classifier on the test data and evaluate performance.\n",
    "\"\"\"\n",
    "\n",
    "originalDataFrame = loadData()\n",
    "\n",
    "# Preprocessing step: Apply preprocessing to the original data\n",
    "dataFrame = preprocessing(originalDataFrame)\n",
    "\n",
    "# Separate features and target variable\n",
    "data = dataFrame.iloc[:, 1:]  # Features\n",
    "targets = dataFrame.iloc[:, 0]  # Target variable\n",
    "\n",
    "# Split data into training and testing sets\n",
    "x_train, x_test, y_train, y_test = train_test_split(data, targets, test_size=0.2, random_state=42)\n",
    "\n",
    "# Normalization: Scale features using StandardScaler\n",
    "standard_scaler_normalizer = StandardScaler()\n",
    "x_train = standard_scaler_normalizer.fit_transform(x_train)\n",
    "x_test = standard_scaler_normalizer.transform(x_test)\n",
    "\n",
    "# Logistic Regression classifier initialization and training\n",
    "logistic_regression_classifier = LogisticRegression(random_state=42)\n",
    "logistic_regression_classifier.fit(x_train, y_train)\n",
    "\n",
    "# Predict on the test set\n",
    "y_pred = logistic_regression_classifier.predict(x_test)\n",
    "\n",
    "# Calculate accuracy score\n",
    "accuracy = accuracy_score(y_test, y_pred)\n",
    "print(\"Accuracy: {:.2f}%\".format(accuracy * 100))\n"
   ]
  },
  {
   "cell_type": "code",
   "execution_count": null,
   "metadata": {},
   "outputs": [],
   "source": []
  }
 ],
 "metadata": {
  "kernelspec": {
   "display_name": "Python 3",
   "language": "python",
   "name": "python3"
  },
  "language_info": {
   "codemirror_mode": {
    "name": "ipython",
    "version": 3
   },
   "file_extension": ".py",
   "mimetype": "text/x-python",
   "name": "python",
   "nbconvert_exporter": "python",
   "pygments_lexer": "ipython3",
   "version": "3.12.1"
  }
 },
 "nbformat": 4,
 "nbformat_minor": 2
}
