{
 "cells": [
  {
   "cell_type": "code",
   "execution_count": 1,
   "metadata": {},
   "outputs": [],
   "source": [
    "from sklearn.linear_model import SGDClassifier\n",
    "from sklearn.model_selection import train_test_split\n",
    "from sklearn.preprocessing import StandardScaler\n",
    "from sklearn.metrics import accuracy_score\n",
    "from loadData import loadData\n",
    "from preprocessing import preprocessing\n"
   ]
  },
  {
   "cell_type": "code",
   "execution_count": 2,
   "metadata": {},
   "outputs": [
    {
     "name": "stdout",
     "output_type": "stream",
     "text": [
      "Accuracy :  71.76\n"
     ]
    }
   ],
   "source": [
    "originalDataFrame = loadData()\n",
    "\n",
    "#Preprocessing\n",
    "dataFrame = preprocessing(originalDataFrame)\n",
    "\n",
    "\n",
    "data = dataFrame.iloc[:,1:]\n",
    "targets = dataFrame.iloc[:,0]\n",
    "\n",
    "x_train, x_test, y_train, y_test = train_test_split(data,targets,test_size=0.2,random_state=42)\n",
    "\n",
    "\n",
    "#Normalazation\n",
    "standard_scaler_normaliaer = StandardScaler()\n",
    "x_train = standard_scaler_normaliaer.fit_transform(x_train)\n",
    "x_test = standard_scaler_normaliaer.transform(x_test)\n",
    "\n",
    "\n",
    "sgd_classifire = SGDClassifier(random_state=42)\n",
    "sgd_classifire.fit(x_train, y_train)\n",
    "\n",
    "\n",
    "y_pred = sgd_classifire.predict(x_test)\n",
    "accuracy = accuracy_score(y_test,y_pred)\n",
    "print(\"Accuracy :  {:.2f}\".format(accuracy * 100))\n",
    "\n",
    "\n"
   ]
  }
 ],
 "metadata": {
  "kernelspec": {
   "display_name": "Python 3",
   "language": "python",
   "name": "python3"
  },
  "language_info": {
   "codemirror_mode": {
    "name": "ipython",
    "version": 3
   },
   "file_extension": ".py",
   "mimetype": "text/x-python",
   "name": "python",
   "nbconvert_exporter": "python",
   "pygments_lexer": "ipython3",
   "version": "3.12.1"
  }
 },
 "nbformat": 4,
 "nbformat_minor": 2
}
